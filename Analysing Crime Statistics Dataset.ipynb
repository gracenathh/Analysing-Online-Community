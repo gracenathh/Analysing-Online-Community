{
 "cells": [
  {
   "cell_type": "markdown",
   "metadata": {},
   "source": [
    "# Analysing Crime Statistics Dataset\n",
    "The Crime statistics dataset contains all offences against the person and property that were reported to police between 2014 to 2019 in South Australian suburbs. The dataset contains information about the crime reported date, suburb incident occurred,\n",
    "Postcode, 3 levels of description of the offence, and the offence count. \n",
    "\n",
    "This Analysis was done in order to complete the assignment of FIT1043 - Introduction to Data Science, Monash University Malaysia in Semester 2 2019. The answer is now modified for portfolio purpose."
   ]
  },
  {
   "cell_type": "code",
   "execution_count": 1,
   "metadata": {},
   "outputs": [],
   "source": [
    "#importing some libraries that we will be working with\n",
    "import pandas as pd\n",
    "import numpy as np\n",
    "import matplotlib.pyplot as plt \n",
    "%matplotlib inline"
   ]
  },
  {
   "cell_type": "code",
   "execution_count": 2,
   "metadata": {},
   "outputs": [],
   "source": [
    "#reading the file\n",
    "crime = pd.read_csv(\"Crime_Statistics_SA_2014_2019.csv\")"
   ]
  },
  {
   "cell_type": "code",
   "execution_count": 3,
   "metadata": {},
   "outputs": [
    {
     "data": {
      "text/html": [
       "<div>\n",
       "<style scoped>\n",
       "    .dataframe tbody tr th:only-of-type {\n",
       "        vertical-align: middle;\n",
       "    }\n",
       "\n",
       "    .dataframe tbody tr th {\n",
       "        vertical-align: top;\n",
       "    }\n",
       "\n",
       "    .dataframe thead th {\n",
       "        text-align: right;\n",
       "    }\n",
       "</style>\n",
       "<table border=\"1\" class=\"dataframe\">\n",
       "  <thead>\n",
       "    <tr style=\"text-align: right;\">\n",
       "      <th></th>\n",
       "      <th>Reported Date</th>\n",
       "      <th>Suburb - Incident</th>\n",
       "      <th>Postcode - Incident</th>\n",
       "      <th>Offence Level 1 Description</th>\n",
       "      <th>Offence Level 2 Description</th>\n",
       "      <th>Offence Level 3 Description</th>\n",
       "      <th>Offence Count</th>\n",
       "    </tr>\n",
       "  </thead>\n",
       "  <tbody>\n",
       "    <tr>\n",
       "      <th>0</th>\n",
       "      <td>2014-01-01</td>\n",
       "      <td>ADELAIDE</td>\n",
       "      <td>5000</td>\n",
       "      <td>OFFENCES AGAINST PROPERTY</td>\n",
       "      <td>PROPERTY DAMAGE AND ENVIRONMENTAL</td>\n",
       "      <td>Other property damage and environmental</td>\n",
       "      <td>4.0</td>\n",
       "    </tr>\n",
       "    <tr>\n",
       "      <th>1</th>\n",
       "      <td>2014-01-01</td>\n",
       "      <td>ADELAIDE</td>\n",
       "      <td>5000</td>\n",
       "      <td>OFFENCES AGAINST PROPERTY</td>\n",
       "      <td>THEFT AND RELATED OFFENCES</td>\n",
       "      <td>Other theft</td>\n",
       "      <td>8.0</td>\n",
       "    </tr>\n",
       "    <tr>\n",
       "      <th>2</th>\n",
       "      <td>2014-01-01</td>\n",
       "      <td>ADELAIDE</td>\n",
       "      <td>5000</td>\n",
       "      <td>OFFENCES AGAINST THE PERSON</td>\n",
       "      <td>ACTS INTENDED TO CAUSE INJURY</td>\n",
       "      <td>Assault Police</td>\n",
       "      <td>2.0</td>\n",
       "    </tr>\n",
       "    <tr>\n",
       "      <th>3</th>\n",
       "      <td>2014-01-01</td>\n",
       "      <td>ADELAIDE</td>\n",
       "      <td>5000</td>\n",
       "      <td>OFFENCES AGAINST THE PERSON</td>\n",
       "      <td>ACTS INTENDED TO CAUSE INJURY</td>\n",
       "      <td>Common Assault</td>\n",
       "      <td>2.0</td>\n",
       "    </tr>\n",
       "    <tr>\n",
       "      <th>4</th>\n",
       "      <td>2014-01-01</td>\n",
       "      <td>ADELAIDE</td>\n",
       "      <td>5000</td>\n",
       "      <td>OFFENCES AGAINST THE PERSON</td>\n",
       "      <td>ACTS INTENDED TO CAUSE INJURY</td>\n",
       "      <td>Serious Assault not resulting in injury</td>\n",
       "      <td>4.0</td>\n",
       "    </tr>\n",
       "  </tbody>\n",
       "</table>\n",
       "</div>"
      ],
      "text/plain": [
       "  Reported Date Suburb - Incident Postcode - Incident  \\\n",
       "0    2014-01-01          ADELAIDE                5000   \n",
       "1    2014-01-01          ADELAIDE                5000   \n",
       "2    2014-01-01          ADELAIDE                5000   \n",
       "3    2014-01-01          ADELAIDE                5000   \n",
       "4    2014-01-01          ADELAIDE                5000   \n",
       "\n",
       "   Offence Level 1 Description        Offence Level 2 Description  \\\n",
       "0    OFFENCES AGAINST PROPERTY  PROPERTY DAMAGE AND ENVIRONMENTAL   \n",
       "1    OFFENCES AGAINST PROPERTY         THEFT AND RELATED OFFENCES   \n",
       "2  OFFENCES AGAINST THE PERSON      ACTS INTENDED TO CAUSE INJURY   \n",
       "3  OFFENCES AGAINST THE PERSON      ACTS INTENDED TO CAUSE INJURY   \n",
       "4  OFFENCES AGAINST THE PERSON      ACTS INTENDED TO CAUSE INJURY   \n",
       "\n",
       "               Offence Level 3 Description  Offence Count  \n",
       "0  Other property damage and environmental            4.0  \n",
       "1                              Other theft            8.0  \n",
       "2                           Assault Police            2.0  \n",
       "3                           Common Assault            2.0  \n",
       "4  Serious Assault not resulting in injury            4.0  "
      ]
     },
     "execution_count": 3,
     "metadata": {},
     "output_type": "execute_result"
    }
   ],
   "source": [
    "crime.head()"
   ]
  },
  {
   "cell_type": "markdown",
   "metadata": {},
   "source": [
    "### Data Auditing\n",
    "#### Removing NULL values if any"
   ]
  },
  {
   "cell_type": "code",
   "execution_count": 4,
   "metadata": {},
   "outputs": [
    {
     "data": {
      "text/plain": [
       "(385296, 7)"
      ]
     },
     "execution_count": 4,
     "metadata": {},
     "output_type": "execute_result"
    }
   ],
   "source": [
    "crime.shape"
   ]
  },
  {
   "cell_type": "code",
   "execution_count": 5,
   "metadata": {},
   "outputs": [
    {
     "data": {
      "text/plain": [
       "562"
      ]
     },
     "execution_count": 5,
     "metadata": {},
     "output_type": "execute_result"
    }
   ],
   "source": [
    "np.count_nonzero(crime.isnull().values)"
   ]
  },
  {
   "cell_type": "code",
   "execution_count": 6,
   "metadata": {},
   "outputs": [],
   "source": [
    "#Since the result is greater than 0, it is confirmed that there are 562 null values in the dataset.\n",
    "crime.dropna(inplace = True)"
   ]
  },
  {
   "cell_type": "code",
   "execution_count": 7,
   "metadata": {},
   "outputs": [
    {
     "data": {
      "text/plain": [
       "(384888, 7)"
      ]
     },
     "execution_count": 7,
     "metadata": {},
     "output_type": "execute_result"
    }
   ],
   "source": [
    "#check if the row(s) with any NULL value have been removed\n",
    "crime.shape"
   ]
  },
  {
   "cell_type": "markdown",
   "metadata": {},
   "source": [
    "#### Fixing incorrect data types"
   ]
  },
  {
   "cell_type": "code",
   "execution_count": 8,
   "metadata": {},
   "outputs": [
    {
     "data": {
      "text/plain": [
       "Reported Date                   object\n",
       "Suburb - Incident               object\n",
       "Postcode - Incident             object\n",
       "Offence Level 1 Description     object\n",
       "Offence Level 2 Description     object\n",
       "Offence Level 3 Description     object\n",
       "Offence Count                  float64\n",
       "dtype: object"
      ]
     },
     "execution_count": 8,
     "metadata": {},
     "output_type": "execute_result"
    }
   ],
   "source": [
    "#checking data types of each column\n",
    "crime.dtypes"
   ]
  },
  {
   "cell_type": "code",
   "execution_count": 9,
   "metadata": {},
   "outputs": [
    {
     "name": "stdout",
     "output_type": "stream",
     "text": [
      "datetime64[ns]\n"
     ]
    }
   ],
   "source": [
    "#Reported Date has incorrect datatype, it should be a Date Time object\n",
    "crime['Reported Date'] = pd.to_datetime(crime['Reported Date']) #change to datetime format\n",
    "\n",
    "print(crime['Reported Date'].dtypes) #check if the data type has changed"
   ]
  },
  {
   "cell_type": "markdown",
   "metadata": {},
   "source": [
    "## Data Exploration\n",
    "#### Checking the data descriptive of Offence Count\n",
    "Offence Count describes the number of occurence of the crime"
   ]
  },
  {
   "cell_type": "code",
   "execution_count": 10,
   "metadata": {},
   "outputs": [
    {
     "data": {
      "text/plain": [
       "count    384888.000000\n",
       "mean          1.164983\n",
       "std           0.560929\n",
       "min           1.000000\n",
       "max          28.000000\n",
       "Name: Offence Count, dtype: float64"
      ]
     },
     "execution_count": 10,
     "metadata": {},
     "output_type": "execute_result"
    }
   ],
   "source": [
    "crime['Offence Count'].describe()[['count','mean','std','min','max']]"
   ]
  },
  {
   "cell_type": "markdown",
   "metadata": {},
   "source": [
    "#### Exploring Offence Level 1 Description;\n",
    "- Displaying unique value of Offence Level 1 and the number of their occurence\n",
    "- Counting the percentage of each unique value falls under Offence Level 1"
   ]
  },
  {
   "cell_type": "code",
   "execution_count": 11,
   "metadata": {},
   "outputs": [],
   "source": [
    "uniqueVal1, count1 = np.unique(crime['Offence Level 1 Description'],return_counts = True)"
   ]
  },
  {
   "cell_type": "code",
   "execution_count": 12,
   "metadata": {},
   "outputs": [
    {
     "name": "stdout",
     "output_type": "stream",
     "text": [
      "OFFENCES AGAINST PROPERTY : 298226\n",
      "OFFENCES AGAINST THE PERSON : 86662\n"
     ]
    }
   ],
   "source": [
    "for i in range(len(uniqueVal1)):\n",
    "    print(uniqueVal1[i],\":\",count1[i])"
   ]
  },
  {
   "cell_type": "code",
   "execution_count": 13,
   "metadata": {},
   "outputs": [
    {
     "name": "stdout",
     "output_type": "stream",
     "text": [
      "OFFENCES AGAINST PROPERTY : 77.48 %\n",
      "OFFENCES AGAINST THE PERSON : 22.52 %\n"
     ]
    }
   ],
   "source": [
    "#Percentage of each Level 1 Offence\n",
    "for i in range(len(uniqueVal1)):\n",
    "    percentage = count1[i]/sum(count1)*100\n",
    "    print(uniqueVal1[i],\":\",round(percentage,2),\"%\")"
   ]
  },
  {
   "cell_type": "markdown",
   "metadata": {},
   "source": [
    "#### Exploring Offence Level 2 Description;\n",
    "- Displaying unique value of Offence Level 2 and the number of their occurence\n",
    "- Counting the percentage of each unique value falls under Offence Level 2\n",
    "- Counting Serious Criminal Trespasses that have occurred with more than 1 offence count"
   ]
  },
  {
   "cell_type": "code",
   "execution_count": 14,
   "metadata": {},
   "outputs": [
    {
     "name": "stdout",
     "output_type": "stream",
     "text": [
      "ACTS INTENDED TO CAUSE INJURY : 63663\n",
      "FRAUD DECEPTION AND RELATED OFFENCES : 11566\n",
      "HOMICIDE AND RELATED OFFENCES : 225\n",
      "OTHER OFFENCES AGAINST THE PERSON : 12313\n",
      "PROPERTY DAMAGE AND ENVIRONMENTAL : 79991\n",
      "ROBBERY AND RELATED OFFENCES : 2602\n",
      "SERIOUS CRIMINAL TRESPASS : 53839\n",
      "SEXUAL ASSAULT AND RELATED OFFENCES : 7859\n",
      "THEFT AND RELATED OFFENCES : 152830\n"
     ]
    }
   ],
   "source": [
    "uniqueVal2, count2 = np.unique(crime['Offence Level 2 Description'],return_counts = True)\n",
    "\n",
    "for i in range(len(uniqueVal2)):\n",
    "    print(uniqueVal2[i],\":\",count2[i])"
   ]
  },
  {
   "cell_type": "code",
   "execution_count": 15,
   "metadata": {},
   "outputs": [
    {
     "name": "stdout",
     "output_type": "stream",
     "text": [
      "ACTS INTENDED TO CAUSE INJURY : 16.54 %\n",
      "FRAUD DECEPTION AND RELATED OFFENCES : 3.01 %\n",
      "HOMICIDE AND RELATED OFFENCES : 0.06 %\n",
      "OTHER OFFENCES AGAINST THE PERSON : 3.2 %\n",
      "PROPERTY DAMAGE AND ENVIRONMENTAL : 20.78 %\n",
      "ROBBERY AND RELATED OFFENCES : 0.68 %\n",
      "SERIOUS CRIMINAL TRESPASS : 13.99 %\n",
      "SEXUAL ASSAULT AND RELATED OFFENCES : 2.04 %\n",
      "THEFT AND RELATED OFFENCES : 39.71 %\n"
     ]
    }
   ],
   "source": [
    "#Percentage of each Level 2 Offence\n",
    "for i in range(len(uniqueVal2)):\n",
    "    percentage = count2[i]/sum(count2)*100\n",
    "    print(uniqueVal2[i],\":\",round(percentage,2),\"%\")"
   ]
  },
  {
   "cell_type": "code",
   "execution_count": 16,
   "metadata": {},
   "outputs": [
    {
     "name": "stdout",
     "output_type": "stream",
     "text": [
      "4193\n"
     ]
    }
   ],
   "source": [
    "#Counting Serious Criminal Trespasses that have occurred with more than 1 offence count\n",
    "filt = (crime['Offence Level 2 Description'] == 'SERIOUS CRIMINAL TRESPASS')\n",
    "crimeFilt = crime[filt]\n",
    "filt = (crimeFilt['Offence Count'] > 1)\n",
    "crimeFilt = crimeFilt[filt]\n",
    "count = crimeFilt.shape\n",
    "print(count[0])"
   ]
  },
  {
   "cell_type": "markdown",
   "metadata": {},
   "source": [
    "## Investigating Offence Count in different suburbs and different years\n",
    "#### Investigating the number of crimes per year"
   ]
  },
  {
   "cell_type": "code",
   "execution_count": 17,
   "metadata": {},
   "outputs": [],
   "source": [
    "crime['Year'] = crime['Reported Date'].dt.year #Extracting 'year' from column \"Reported Date\""
   ]
  },
  {
   "cell_type": "code",
   "execution_count": 18,
   "metadata": {},
   "outputs": [
    {
     "data": {
      "text/html": [
       "<div>\n",
       "<style scoped>\n",
       "    .dataframe tbody tr th:only-of-type {\n",
       "        vertical-align: middle;\n",
       "    }\n",
       "\n",
       "    .dataframe tbody tr th {\n",
       "        vertical-align: top;\n",
       "    }\n",
       "\n",
       "    .dataframe thead th {\n",
       "        text-align: right;\n",
       "    }\n",
       "</style>\n",
       "<table border=\"1\" class=\"dataframe\">\n",
       "  <thead>\n",
       "    <tr style=\"text-align: right;\">\n",
       "      <th></th>\n",
       "      <th>Reported Date</th>\n",
       "      <th>Suburb - Incident</th>\n",
       "      <th>Postcode - Incident</th>\n",
       "      <th>Offence Level 1 Description</th>\n",
       "      <th>Offence Level 2 Description</th>\n",
       "      <th>Offence Level 3 Description</th>\n",
       "      <th>Offence Count</th>\n",
       "      <th>Year</th>\n",
       "    </tr>\n",
       "  </thead>\n",
       "  <tbody>\n",
       "    <tr>\n",
       "      <th>0</th>\n",
       "      <td>2014-01-01</td>\n",
       "      <td>ADELAIDE</td>\n",
       "      <td>5000</td>\n",
       "      <td>OFFENCES AGAINST PROPERTY</td>\n",
       "      <td>PROPERTY DAMAGE AND ENVIRONMENTAL</td>\n",
       "      <td>Other property damage and environmental</td>\n",
       "      <td>4.0</td>\n",
       "      <td>2014</td>\n",
       "    </tr>\n",
       "    <tr>\n",
       "      <th>1</th>\n",
       "      <td>2014-01-01</td>\n",
       "      <td>ADELAIDE</td>\n",
       "      <td>5000</td>\n",
       "      <td>OFFENCES AGAINST PROPERTY</td>\n",
       "      <td>THEFT AND RELATED OFFENCES</td>\n",
       "      <td>Other theft</td>\n",
       "      <td>8.0</td>\n",
       "      <td>2014</td>\n",
       "    </tr>\n",
       "    <tr>\n",
       "      <th>2</th>\n",
       "      <td>2014-01-01</td>\n",
       "      <td>ADELAIDE</td>\n",
       "      <td>5000</td>\n",
       "      <td>OFFENCES AGAINST THE PERSON</td>\n",
       "      <td>ACTS INTENDED TO CAUSE INJURY</td>\n",
       "      <td>Assault Police</td>\n",
       "      <td>2.0</td>\n",
       "      <td>2014</td>\n",
       "    </tr>\n",
       "    <tr>\n",
       "      <th>3</th>\n",
       "      <td>2014-01-01</td>\n",
       "      <td>ADELAIDE</td>\n",
       "      <td>5000</td>\n",
       "      <td>OFFENCES AGAINST THE PERSON</td>\n",
       "      <td>ACTS INTENDED TO CAUSE INJURY</td>\n",
       "      <td>Common Assault</td>\n",
       "      <td>2.0</td>\n",
       "      <td>2014</td>\n",
       "    </tr>\n",
       "    <tr>\n",
       "      <th>4</th>\n",
       "      <td>2014-01-01</td>\n",
       "      <td>ADELAIDE</td>\n",
       "      <td>5000</td>\n",
       "      <td>OFFENCES AGAINST THE PERSON</td>\n",
       "      <td>ACTS INTENDED TO CAUSE INJURY</td>\n",
       "      <td>Serious Assault not resulting in injury</td>\n",
       "      <td>4.0</td>\n",
       "      <td>2014</td>\n",
       "    </tr>\n",
       "  </tbody>\n",
       "</table>\n",
       "</div>"
      ],
      "text/plain": [
       "  Reported Date Suburb - Incident Postcode - Incident  \\\n",
       "0    2014-01-01          ADELAIDE                5000   \n",
       "1    2014-01-01          ADELAIDE                5000   \n",
       "2    2014-01-01          ADELAIDE                5000   \n",
       "3    2014-01-01          ADELAIDE                5000   \n",
       "4    2014-01-01          ADELAIDE                5000   \n",
       "\n",
       "   Offence Level 1 Description        Offence Level 2 Description  \\\n",
       "0    OFFENCES AGAINST PROPERTY  PROPERTY DAMAGE AND ENVIRONMENTAL   \n",
       "1    OFFENCES AGAINST PROPERTY         THEFT AND RELATED OFFENCES   \n",
       "2  OFFENCES AGAINST THE PERSON      ACTS INTENDED TO CAUSE INJURY   \n",
       "3  OFFENCES AGAINST THE PERSON      ACTS INTENDED TO CAUSE INJURY   \n",
       "4  OFFENCES AGAINST THE PERSON      ACTS INTENDED TO CAUSE INJURY   \n",
       "\n",
       "               Offence Level 3 Description  Offence Count  Year  \n",
       "0  Other property damage and environmental            4.0  2014  \n",
       "1                              Other theft            8.0  2014  \n",
       "2                           Assault Police            2.0  2014  \n",
       "3                           Common Assault            2.0  2014  \n",
       "4  Serious Assault not resulting in injury            4.0  2014  "
      ]
     },
     "execution_count": 18,
     "metadata": {},
     "output_type": "execute_result"
    }
   ],
   "source": [
    "crime.head()"
   ]
  },
  {
   "cell_type": "code",
   "execution_count": 19,
   "metadata": {},
   "outputs": [
    {
     "data": {
      "text/html": [
       "<div>\n",
       "<style scoped>\n",
       "    .dataframe tbody tr th:only-of-type {\n",
       "        vertical-align: middle;\n",
       "    }\n",
       "\n",
       "    .dataframe tbody tr th {\n",
       "        vertical-align: top;\n",
       "    }\n",
       "\n",
       "    .dataframe thead th {\n",
       "        text-align: right;\n",
       "    }\n",
       "</style>\n",
       "<table border=\"1\" class=\"dataframe\">\n",
       "  <thead>\n",
       "    <tr style=\"text-align: right;\">\n",
       "      <th></th>\n",
       "      <th>Frequency</th>\n",
       "    </tr>\n",
       "    <tr>\n",
       "      <th>Year</th>\n",
       "      <th></th>\n",
       "    </tr>\n",
       "  </thead>\n",
       "  <tbody>\n",
       "    <tr>\n",
       "      <th>2014</th>\n",
       "      <td>87658</td>\n",
       "    </tr>\n",
       "    <tr>\n",
       "      <th>2015</th>\n",
       "      <td>90936</td>\n",
       "    </tr>\n",
       "    <tr>\n",
       "      <th>2016</th>\n",
       "      <td>92036</td>\n",
       "    </tr>\n",
       "    <tr>\n",
       "      <th>2017</th>\n",
       "      <td>42961</td>\n",
       "    </tr>\n",
       "    <tr>\n",
       "      <th>2018</th>\n",
       "      <td>47522</td>\n",
       "    </tr>\n",
       "    <tr>\n",
       "      <th>2019</th>\n",
       "      <td>23775</td>\n",
       "    </tr>\n",
       "  </tbody>\n",
       "</table>\n",
       "</div>"
      ],
      "text/plain": [
       "      Frequency\n",
       "Year           \n",
       "2014      87658\n",
       "2015      90936\n",
       "2016      92036\n",
       "2017      42961\n",
       "2018      47522\n",
       "2019      23775"
      ]
     },
     "execution_count": 19,
     "metadata": {},
     "output_type": "execute_result"
    }
   ],
   "source": [
    "groupbyYear = crime.groupby('Year').agg(Frequency = ('Year','count'))\n",
    "groupbyYear"
   ]
  },
  {
   "cell_type": "code",
   "execution_count": 20,
   "metadata": {},
   "outputs": [
    {
     "data": {
      "text/plain": [
       "Text(0.5, 1.0, 'Number of Crimes Per Year (2014-2019)')"
      ]
     },
     "execution_count": 20,
     "metadata": {},
     "output_type": "execute_result"
    },
    {
     "data": {
      "image/png": "[encoded data removed]",
      "text/plain": [
       "<Figure size 576x360 with 1 Axes>"
      ]
     },
     "metadata": {
      "needs_background": "light"
     },
     "output_type": "display_data"
    }
   ],
   "source": [
    "ax = groupbyYear.plot.bar(figsize=(8,5))\n",
    "plt.xlabel('Year')\n",
    "plt.ylabel('Frequency')\n",
    "plt.title('Number of Crimes Per Year (2014-2019)')"
   ]
  },
  {
   "cell_type": "markdown",
   "metadata": {},
   "source": [
    "Graph above represents the number of crimes occur per year from 2014 to 2019. Although for the first 3 years (2014-2016), the number of crimes increased, there is a remarkable drop from 92063 crimes in 2016 to 42976 crimes in 2017. In addition to this, even though there is a slight increase of number of crimes in 2018, the number of crimes in 2019 decreased up to 50%."
   ]
  },
  {
   "cell_type": "markdown",
   "metadata": {},
   "source": [
    "#### Investigating the total number of crimes in different suburbs\n",
    "- Computing the total number of crimes in each suburb"
   ]
  },
  {
   "cell_type": "code",
   "execution_count": 21,
   "metadata": {},
   "outputs": [],
   "source": [
    "#We first aggregate the data then flatten it.\n",
    "groupbySuburb = crime.groupby('Suburb - Incident').agg(Frequency = ('Suburb - Incident','count'))"
   ]
  },
  {
   "cell_type": "code",
   "execution_count": 22,
   "metadata": {},
   "outputs": [],
   "source": [
    "groupbySuburb = groupbySuburb.reset_index() #turn 'Suburb - Incident' groups into column values"
   ]
  },
  {
   "cell_type": "code",
   "execution_count": 23,
   "metadata": {},
   "outputs": [
    {
     "data": {
      "text/html": [
       "<div>\n",
       "<style scoped>\n",
       "    .dataframe tbody tr th:only-of-type {\n",
       "        vertical-align: middle;\n",
       "    }\n",
       "\n",
       "    .dataframe tbody tr th {\n",
       "        vertical-align: top;\n",
       "    }\n",
       "\n",
       "    .dataframe thead th {\n",
       "        text-align: right;\n",
       "    }\n",
       "</style>\n",
       "<table border=\"1\" class=\"dataframe\">\n",
       "  <thead>\n",
       "    <tr style=\"text-align: right;\">\n",
       "      <th></th>\n",
       "      <th>Suburb - Incident</th>\n",
       "      <th>Frequency</th>\n",
       "    </tr>\n",
       "  </thead>\n",
       "  <tbody>\n",
       "    <tr>\n",
       "      <th>0</th>\n",
       "      <td>ABERFOYLE PARK</td>\n",
       "      <td>1183</td>\n",
       "    </tr>\n",
       "    <tr>\n",
       "      <th>1</th>\n",
       "      <td>ADELAIDE</td>\n",
       "      <td>11642</td>\n",
       "    </tr>\n",
       "    <tr>\n",
       "      <th>2</th>\n",
       "      <td>ADELAIDE AIRPORT</td>\n",
       "      <td>614</td>\n",
       "    </tr>\n",
       "    <tr>\n",
       "      <th>3</th>\n",
       "      <td>AGERY</td>\n",
       "      <td>5</td>\n",
       "    </tr>\n",
       "    <tr>\n",
       "      <th>4</th>\n",
       "      <td>ALAWOONA</td>\n",
       "      <td>7</td>\n",
       "    </tr>\n",
       "  </tbody>\n",
       "</table>\n",
       "</div>"
      ],
      "text/plain": [
       "  Suburb - Incident  Frequency\n",
       "0    ABERFOYLE PARK       1183\n",
       "1          ADELAIDE      11642\n",
       "2  ADELAIDE AIRPORT        614\n",
       "3             AGERY          5\n",
       "4          ALAWOONA          7"
      ]
     },
     "execution_count": 23,
     "metadata": {},
     "output_type": "execute_result"
    }
   ],
   "source": [
    "groupbySuburb.head()"
   ]
  },
  {
   "cell_type": "markdown",
   "metadata": {},
   "source": [
    "- Plotting a histogram of the total number of crimes in different suburbs"
   ]
  },
  {
   "cell_type": "code",
   "execution_count": 24,
   "metadata": {},
   "outputs": [
    {
     "data": {
      "text/plain": [
       "Text(0, 0.5, '# of Suburbs')"
      ]
     },
     "execution_count": 24,
     "metadata": {},
     "output_type": "execute_result"
    },
    {
     "data": {
      "image/png": "[encoded data removed]",
      "text/plain": [
       "<Figure size 432x288 with 1 Axes>"
      ]
     },
     "metadata": {
      "needs_background": "light"
     },
     "output_type": "display_data"
    }
   ],
   "source": [
    "groupbySuburb['Frequency'].hist(bins=10)\n",
    "plt.xlim(0,10000)               \n",
    "plt.ylim(0,1750)\n",
    "plt.xlabel('Frequency of Crimes')\n",
    "plt.ylabel('# of Suburbs')"
   ]
  },
  {
   "cell_type": "code",
   "execution_count": 25,
   "metadata": {},
   "outputs": [
    {
     "data": {
      "text/plain": [
       "mean    243.44592\n",
       "50%      15.00000\n",
       "Name: Frequency, dtype: float64"
      ]
     },
     "execution_count": 25,
     "metadata": {},
     "output_type": "execute_result"
    }
   ],
   "source": [
    "groupbySuburb['Frequency'].describe()[['mean','50%']]"
   ]
  },
  {
   "cell_type": "markdown",
   "metadata": {},
   "source": [
    "The shape of histogram is skewed right (mean > median). This happens because the number of suburbs has a few large values that drive the mean upward yet do not affect the position of median. From here, we can conclude that the frequency of crimes in most of the suburbs is low compared to the rest of the suburbs."
   ]
  },
  {
   "cell_type": "markdown",
   "metadata": {},
   "source": [
    "- Analysing suburbs with the total number of crimes that are greater than 5000 then plotting a bar chart"
   ]
  },
  {
   "cell_type": "code",
   "execution_count": 26,
   "metadata": {},
   "outputs": [
    {
     "data": {
      "text/html": [
       "<div>\n",
       "<style scoped>\n",
       "    .dataframe tbody tr th:only-of-type {\n",
       "        vertical-align: middle;\n",
       "    }\n",
       "\n",
       "    .dataframe tbody tr th {\n",
       "        vertical-align: top;\n",
       "    }\n",
       "\n",
       "    .dataframe thead th {\n",
       "        text-align: right;\n",
       "    }\n",
       "</style>\n",
       "<table border=\"1\" class=\"dataframe\">\n",
       "  <thead>\n",
       "    <tr style=\"text-align: right;\">\n",
       "      <th></th>\n",
       "      <th>Suburb - Incident</th>\n",
       "      <th>Frequency</th>\n",
       "    </tr>\n",
       "  </thead>\n",
       "  <tbody>\n",
       "    <tr>\n",
       "      <th>1</th>\n",
       "      <td>ADELAIDE</td>\n",
       "      <td>11642</td>\n",
       "    </tr>\n",
       "    <tr>\n",
       "      <th>851</th>\n",
       "      <td>MORPHETT VALE</td>\n",
       "      <td>5133</td>\n",
       "    </tr>\n",
       "    <tr>\n",
       "      <th>866</th>\n",
       "      <td>MOUNT GAMBIER</td>\n",
       "      <td>5031</td>\n",
       "    </tr>\n",
       "    <tr>\n",
       "      <th>900</th>\n",
       "      <td>MURRAY BRIDGE</td>\n",
       "      <td>5158</td>\n",
       "    </tr>\n",
       "    <tr>\n",
       "      <th>962</th>\n",
       "      <td>NOT DISCLOSED</td>\n",
       "      <td>6458</td>\n",
       "    </tr>\n",
       "    <tr>\n",
       "      <th>1092</th>\n",
       "      <td>PORT AUGUSTA</td>\n",
       "      <td>5174</td>\n",
       "    </tr>\n",
       "  </tbody>\n",
       "</table>\n",
       "</div>"
      ],
      "text/plain": [
       "     Suburb - Incident  Frequency\n",
       "1             ADELAIDE      11642\n",
       "851      MORPHETT VALE       5133\n",
       "866      MOUNT GAMBIER       5031\n",
       "900      MURRAY BRIDGE       5158\n",
       "962      NOT DISCLOSED       6458\n",
       "1092      PORT AUGUSTA       5174"
      ]
     },
     "execution_count": 26,
     "metadata": {},
     "output_type": "execute_result"
    }
   ],
   "source": [
    "filt = ((groupbySuburb['Frequency'] > 5000)) #filtering the suburbs that have total number of crimes > 5000\n",
    "greatCrime = groupbySuburb[filt]\n",
    "greatCrime"
   ]
  },
  {
   "cell_type": "code",
   "execution_count": 27,
   "metadata": {},
   "outputs": [
    {
     "data": {
      "text/plain": [
       "Text(0.5, 1.0, 'Highest Number of Crimes')"
      ]
     },
     "execution_count": 27,
     "metadata": {},
     "output_type": "execute_result"
    },
    {
     "data": {
      "image/png": "[encoded data removed]",
      "text/plain": [
       "<Figure size 432x288 with 1 Axes>"
      ]
     },
     "metadata": {
      "needs_background": "light"
     },
     "output_type": "display_data"
    }
   ],
   "source": [
    "x_pos = np.arange(len(greatCrime['Suburb - Incident']))\n",
    "plt.bar(x_pos, greatCrime['Frequency'])\n",
    "\n",
    "#use the plt.xticks function to custom labels\n",
    "plt.xticks(x_pos, greatCrime['Suburb - Incident'], rotation = 90)\n",
    "\n",
    "#customing label for the graph\n",
    "plt.xlabel('Suburb Name')\n",
    "plt.ylabel('Frequency')\n",
    "plt.title('Highest Number of Crimes')"
   ]
  },
  {
   "cell_type": "markdown",
   "metadata": {},
   "source": [
    "- Calculating the number of days that at least 15 crimes have occurred per day for each suburb"
   ]
  },
  {
   "cell_type": "code",
   "execution_count": 28,
   "metadata": {},
   "outputs": [
    {
     "data": {
      "text/html": [
       "<div>\n",
       "<style scoped>\n",
       "    .dataframe tbody tr th:only-of-type {\n",
       "        vertical-align: middle;\n",
       "    }\n",
       "\n",
       "    .dataframe tbody tr th {\n",
       "        vertical-align: top;\n",
       "    }\n",
       "\n",
       "    .dataframe thead th {\n",
       "        text-align: right;\n",
       "    }\n",
       "</style>\n",
       "<table border=\"1\" class=\"dataframe\">\n",
       "  <thead>\n",
       "    <tr style=\"text-align: right;\">\n",
       "      <th></th>\n",
       "      <th>Reported Date</th>\n",
       "      <th>Suburb - Incident</th>\n",
       "      <th>Frequency</th>\n",
       "    </tr>\n",
       "  </thead>\n",
       "  <tbody>\n",
       "    <tr>\n",
       "      <th>0</th>\n",
       "      <td>2014-01-01</td>\n",
       "      <td>ADELAIDE</td>\n",
       "      <td>22.0</td>\n",
       "    </tr>\n",
       "    <tr>\n",
       "      <th>182</th>\n",
       "      <td>2014-01-02</td>\n",
       "      <td>ADELAIDE</td>\n",
       "      <td>15.0</td>\n",
       "    </tr>\n",
       "    <tr>\n",
       "      <th>317</th>\n",
       "      <td>2014-01-03</td>\n",
       "      <td>ADELAIDE</td>\n",
       "      <td>22.0</td>\n",
       "    </tr>\n",
       "    <tr>\n",
       "      <th>461</th>\n",
       "      <td>2014-01-04</td>\n",
       "      <td>ADELAIDE</td>\n",
       "      <td>17.0</td>\n",
       "    </tr>\n",
       "    <tr>\n",
       "      <th>774</th>\n",
       "      <td>2014-01-06</td>\n",
       "      <td>ADELAIDE</td>\n",
       "      <td>26.0</td>\n",
       "    </tr>\n",
       "    <tr>\n",
       "      <th>...</th>\n",
       "      <td>...</td>\n",
       "      <td>...</td>\n",
       "      <td>...</td>\n",
       "    </tr>\n",
       "    <tr>\n",
       "      <th>240891</th>\n",
       "      <td>2019-11-01</td>\n",
       "      <td>ADELAIDE</td>\n",
       "      <td>16.0</td>\n",
       "    </tr>\n",
       "    <tr>\n",
       "      <th>241054</th>\n",
       "      <td>2019-11-02</td>\n",
       "      <td>ADELAIDE</td>\n",
       "      <td>18.0</td>\n",
       "    </tr>\n",
       "    <tr>\n",
       "      <th>241389</th>\n",
       "      <td>2019-12-01</td>\n",
       "      <td>ADELAIDE</td>\n",
       "      <td>16.0</td>\n",
       "    </tr>\n",
       "    <tr>\n",
       "      <th>241550</th>\n",
       "      <td>2019-12-02</td>\n",
       "      <td>ADELAIDE</td>\n",
       "      <td>17.0</td>\n",
       "    </tr>\n",
       "    <tr>\n",
       "      <th>241729</th>\n",
       "      <td>2019-12-03</td>\n",
       "      <td>ADELAIDE</td>\n",
       "      <td>18.0</td>\n",
       "    </tr>\n",
       "  </tbody>\n",
       "</table>\n",
       "<p>919 rows × 3 columns</p>\n",
       "</div>"
      ],
      "text/plain": [
       "       Reported Date Suburb - Incident  Frequency\n",
       "0         2014-01-01          ADELAIDE       22.0\n",
       "182       2014-01-02          ADELAIDE       15.0\n",
       "317       2014-01-03          ADELAIDE       22.0\n",
       "461       2014-01-04          ADELAIDE       17.0\n",
       "774       2014-01-06          ADELAIDE       26.0\n",
       "...              ...               ...        ...\n",
       "240891    2019-11-01          ADELAIDE       16.0\n",
       "241054    2019-11-02          ADELAIDE       18.0\n",
       "241389    2019-12-01          ADELAIDE       16.0\n",
       "241550    2019-12-02          ADELAIDE       17.0\n",
       "241729    2019-12-03          ADELAIDE       18.0\n",
       "\n",
       "[919 rows x 3 columns]"
      ]
     },
     "execution_count": 28,
     "metadata": {},
     "output_type": "execute_result"
    }
   ],
   "source": [
    "groupbyDate = crime.groupby(['Reported Date', 'Suburb - Incident'])['Offence Count'].agg('sum')\n",
    "groupbyDate = groupbyDate.reset_index(name = 'Frequency')\n",
    "filt = groupbyDate['Frequency'] >= 15\n",
    "groupbyDate = groupbyDate[filt]\n",
    "groupbyDate"
   ]
  },
  {
   "cell_type": "markdown",
   "metadata": {},
   "source": [
    "- Determining which suburbs do have at least one day where the daily number of crimes are more than 15 then plotting a bar graph representing the number of days that at least 15 crimes have occured for the suburbs"
   ]
  },
  {
   "cell_type": "code",
   "execution_count": 29,
   "metadata": {},
   "outputs": [
    {
     "data": {
      "text/html": [
       "<div>\n",
       "<style scoped>\n",
       "    .dataframe tbody tr th:only-of-type {\n",
       "        vertical-align: middle;\n",
       "    }\n",
       "\n",
       "    .dataframe tbody tr th {\n",
       "        vertical-align: top;\n",
       "    }\n",
       "\n",
       "    .dataframe thead th {\n",
       "        text-align: right;\n",
       "    }\n",
       "</style>\n",
       "<table border=\"1\" class=\"dataframe\">\n",
       "  <thead>\n",
       "    <tr style=\"text-align: right;\">\n",
       "      <th></th>\n",
       "      <th>Suburb - Incident</th>\n",
       "      <th>Frequency</th>\n",
       "    </tr>\n",
       "  </thead>\n",
       "  <tbody>\n",
       "    <tr>\n",
       "      <th>0</th>\n",
       "      <td>ADELAIDE</td>\n",
       "      <td>877</td>\n",
       "    </tr>\n",
       "  </tbody>\n",
       "</table>\n",
       "</div>"
      ],
      "text/plain": [
       "  Suburb - Incident  Frequency\n",
       "0          ADELAIDE        877"
      ]
     },
     "execution_count": 29,
     "metadata": {},
     "output_type": "execute_result"
    }
   ],
   "source": [
    "groupbySuburbTotal = groupbyDate.groupby('Suburb - Incident').size().reset_index(name = 'Frequency')\n",
    "filt = groupbySuburbTotal['Frequency'] > 15\n",
    "result = groupbySuburbTotal[filt]\n",
    "result"
   ]
  },
  {
   "cell_type": "markdown",
   "metadata": {},
   "source": [
    "From the table above we know that only Adelaide has at least one day where the daily number of crimes are more than 15."
   ]
  },
  {
   "cell_type": "code",
   "execution_count": 30,
   "metadata": {},
   "outputs": [],
   "source": [
    "filt = groupbyDate['Suburb - Incident'] == 'ADELAIDE'\n",
    "groupbyDate = groupbyDate[filt]"
   ]
  },
  {
   "cell_type": "code",
   "execution_count": 31,
   "metadata": {},
   "outputs": [
    {
     "data": {
      "image/png": "[encoded data removed]",
      "text/plain": [
       "<Figure size 432x288 with 1 Axes>"
      ]
     },
     "metadata": {
      "needs_background": "light"
     },
     "output_type": "display_data"
    }
   ],
   "source": [
    "plt.bar(groupbyDate['Reported Date'],groupbyDate['Frequency'],width = 1)\n",
    "\n",
    "#customing label for the graph\n",
    "plt.xlabel('Reported Date')\n",
    "plt.ylabel('Frequency')\n",
    "plt.title('Number of Crimes in Adelaide from 2014 - 2019')\n",
    "\n",
    "plt.show()"
   ]
  },
  {
   "cell_type": "markdown",
   "metadata": {},
   "source": [
    "- Determining outliers from the previous data and removing them. A bar graph without outliers will be plotted."
   ]
  },
  {
   "cell_type": "code",
   "execution_count": 32,
   "metadata": {},
   "outputs": [
    {
     "data": {
      "text/plain": [
       "<matplotlib.axes._subplots.AxesSubplot at 0x1da0ac58bc8>"
      ]
     },
     "execution_count": 32,
     "metadata": {},
     "output_type": "execute_result"
    },
    {
     "data": {
      "image/png": "[encoded data removed]",
      "text/plain": [
       "<Figure size 432x288 with 1 Axes>"
      ]
     },
     "metadata": {
      "needs_background": "light"
     },
     "output_type": "display_data"
    }
   ],
   "source": [
    "groupbyDate.boxplot(column = 'Frequency', by = 'Suburb - Incident')"
   ]
  },
  {
   "cell_type": "markdown",
   "metadata": {},
   "source": [
    "We can see from the graph above that the outliers are those greater than approximately 28 days."
   ]
  },
  {
   "cell_type": "code",
   "execution_count": 33,
   "metadata": {},
   "outputs": [],
   "source": [
    "filt = ~(groupbyDate['Frequency'] > 28)\n",
    "groupbyDate = groupbyDate[filt]"
   ]
  },
  {
   "cell_type": "code",
   "execution_count": 34,
   "metadata": {},
   "outputs": [
    {
     "data": {
      "image/png": "[encoded data removed]",
      "text/plain": [
       "<Figure size 432x288 with 1 Axes>"
      ]
     },
     "metadata": {
      "needs_background": "light"
     },
     "output_type": "display_data"
    }
   ],
   "source": [
    "plt.bar(groupbyDate['Reported Date'],groupbyDate['Frequency'],width = 1)\n",
    "\n",
    "#customing label for the graph\n",
    "plt.xlabel('Reported Date')\n",
    "plt.ylabel('Frequency')\n",
    "plt.title('Number of Crimes in Adelaide from 2014 - 2019')\n",
    "\n",
    "plt.show()"
   ]
  },
  {
   "cell_type": "markdown",
   "metadata": {},
   "source": [
    "Comparing the bar graph with and without outliers, the graph without outliers is easier to interpret because:\n",
    "1.\tData can be said more accurate as the outliers will not hurt or affect the sample.\n",
    "2.\tThe y-axis of step 3’s graph only is up to 30 while step 2’s has wider range of y-axis."
   ]
  }
 ],
 "metadata": {
  "kernelspec": {
   "display_name": "Python 3",
   "language": "python",
   "name": "python3"
  },
  "language_info": {
   "codemirror_mode": {
    "name": "ipython",
    "version": 3
   },
   "file_extension": ".py",
   "mimetype": "text/x-python",
   "name": "python",
   "nbconvert_exporter": "python",
   "pygments_lexer": "ipython3",
   "version": "3.7.6"
  }
 },
 "nbformat": 4,
 "nbformat_minor": 4
}
